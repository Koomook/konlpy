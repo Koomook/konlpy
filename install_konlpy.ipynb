{
  "nbformat": 4,
  "nbformat_minor": 0,
  "metadata": {
    "colab": {
      "name": "install_konlpy.ipynb",
      "version": "0.3.2",
      "provenance": []
    },
    "kernelspec": {
      "name": "python3",
      "display_name": "Python 3"
    }
  },
  "cells": [
    {
      "cell_type": "markdown",
      "metadata": {
        "id": "view-in-github",
        "colab_type": "text"
      },
      "source": [
        "[View in Colaboratory](https://colab.research.google.com/github/ho9science/konlpy/blob/develop/install_konlpy.ipynb)"
      ]
    },
    {
      "metadata": {
        "id": "0kvbmAzfPjSz",
        "colab_type": "text"
      },
      "cell_type": "markdown",
      "source": [
        "# Install KoNLPy in colaboratory\n",
        "[KoNLPy 설치 문서](http://konlpy-ko.readthedocs.io/ko/v0.4.4/install/)\n",
        "\n",
        "본 문서는 coaboratory에서 mecab을 설치하여 konlpy에서 사용하기 위해 만들었습니다.\n",
        "\n",
        "This document was created for use in konlpy by installing mecab in coaboratory."
      ]
    },
    {
      "metadata": {
        "id": "QXRIrOYNP4zD",
        "colab_type": "text"
      },
      "cell_type": "markdown",
      "source": [
        "## install konlpy library\n",
        "\n",
        " Successfully installed konlpy-0.4.4"
      ]
    },
    {
      "metadata": {
        "id": "9gqwqppQaVqg",
        "colab_type": "code",
        "colab": {}
      },
      "cell_type": "code",
      "source": [
        "!pip install konlpy\n"
      ],
      "execution_count": 0,
      "outputs": []
    },
    {
      "metadata": {
        "id": "YBu7OOUJQPPQ",
        "colab_type": "text"
      },
      "cell_type": "markdown",
      "source": [
        "## install jdk and install JPype1-py3\n",
        "\n",
        "oracle jdk 설치 무방"
      ]
    },
    {
      "metadata": {
        "id": "KlWrdMWqai9C",
        "colab_type": "code",
        "colab": {}
      },
      "cell_type": "code",
      "source": [
        "!apt-get install openjdk-8-jdk-headless -qq > /dev/null\n",
        "!pip3 install JPype1-py3"
      ],
      "execution_count": 0,
      "outputs": []
    },
    {
      "metadata": {
        "id": "HLROadTzQ0Wt",
        "colab_type": "text"
      },
      "cell_type": "markdown",
      "source": [
        "## mecab-ko 설치\n",
        "[mecab 설치 문서](https://bitbucket.org/eunjeon/mecab-ko)"
      ]
    },
    {
      "metadata": {
        "id": "Tz9LpOyzeAQq",
        "colab_type": "code",
        "colab": {}
      },
      "cell_type": "code",
      "source": [
        "import os\n",
        "os.chdir('/tmp/')\n",
        "!curl -LO https://bitbucket.org/eunjeon/mecab-ko/downloads/mecab-0.996-ko-0.9.1.tar.gz\n",
        "!tar zxfv mecab-0.996-ko-0.9.1.tar.gz\n",
        "os.chdir('/tmp/mecab-0.996-ko-0.9.1')\n",
        "!./configure\n",
        "!make\n",
        "!make check\n",
        "!make install\n"
      ],
      "execution_count": 0,
      "outputs": []
    },
    {
      "metadata": {
        "id": "p-2F0QsIRNhE",
        "colab_type": "text"
      },
      "cell_type": "markdown",
      "source": [
        "## automake 설치"
      ]
    },
    {
      "metadata": {
        "id": "bR4P6WDcwU_3",
        "colab_type": "code",
        "colab": {}
      },
      "cell_type": "code",
      "source": [
        "\n",
        "os.chdir('/tmp')\n",
        "!curl -LO http://ftpmirror.gnu.org/automake/automake-1.11.tar.gz\n",
        "!tar -zxvf automake-1.11.tar.gz\n",
        "os.chdir('/tmp/automake-1.11')\n",
        "!./configure\n",
        "!make\n",
        "!make install\n"
      ],
      "execution_count": 0,
      "outputs": []
    },
    {
      "metadata": {
        "id": "jhznoGrySKm8",
        "colab_type": "text"
      },
      "cell_type": "markdown",
      "source": [
        "## automake install error\n",
        "configure: error: no acceptable m4 could be found in $PATH.\n",
        "\n",
        "Glibc 2.9 - 2.12 and GNU M4 1.4.11 - 1.4.15 have another strstr bug.\n",
        "\n",
        "- install GNU M4 1.4.9\n",
        "\n",
        "- install autoconf-2.69\n",
        "\n"
      ]
    },
    {
      "metadata": {
        "id": "QhHpNihFR5hD",
        "colab_type": "code",
        "colab": {}
      },
      "cell_type": "code",
      "source": [
        "import os\n",
        "os.chdir('/tmp/')\n",
        "\n",
        " \n",
        "!wget -O m4-1.4.9.tar.gz http://ftp.gnu.org/gnu/m4/m4-1.4.9.tar.gz\n",
        "!tar -zvxf m4-1.4.9.tar.gz\n",
        "os.chdir('/tmp/m4-1.4.9')\n",
        "!./configure\n",
        "!make\n",
        "!make install\n",
        "\n",
        "os.chdir('/tmp')\n",
        "!curl -OL http://ftpmirror.gnu.org/autoconf/autoconf-2.69.tar.gz\n",
        "!tar xzf autoconf-2.69.tar.gz\n",
        "os.chdir('/tmp/autoconf-2.69')\n",
        "!./configure --prefix=/usr/local\n",
        "!make\n",
        "!make install\n",
        "!export PATH=/usr/local/bin"
      ],
      "execution_count": 0,
      "outputs": []
    },
    {
      "metadata": {
        "id": "FmnvrVdwRTd8",
        "colab_type": "text"
      },
      "cell_type": "markdown",
      "source": [
        "## install mecab-ko-dic\n",
        "[mecab-ko-dic 설치 문서](https://bitbucket.org/eunjeon/mecab-ko-dic)"
      ]
    },
    {
      "metadata": {
        "id": "Z7PCBmGrsR4Y",
        "colab_type": "code",
        "colab": {}
      },
      "cell_type": "code",
      "source": [
        "import os\n",
        "os.chdir('/tmp')\n",
        "!curl -LO https://bitbucket.org/eunjeon/mecab-ko-dic/downloads/mecab-ko-dic-2.0.1-20150920.tar.gz\n",
        "!tar -zxvf mecab-ko-dic-2.0.1-20150920.tar.gz\n",
        "os.chdir('/tmp/mecab-ko-dic-2.0.1-20150920')\n",
        "!./autogen.sh\n",
        "!./configure\n",
        "!make\n",
        "# !sh -c 'echo \"dicdir=/usr/local/lib/mecab/dic/mecab-ko-dic\" > /usr/local/etc/mecabrc'\n",
        "!make install"
      ],
      "execution_count": 0,
      "outputs": []
    },
    {
      "metadata": {
        "id": "GIydn0oeONmt",
        "colab_type": "text"
      },
      "cell_type": "markdown",
      "source": [
        "## ldconfig\n",
        "libmecab.so.2를 찾을 수 없는 에러가 나는 경우\n",
        "\n",
        "실행 후 재시도\n",
        "\n"
      ]
    },
    {
      "metadata": {
        "id": "qs0rvn4p1EeE",
        "colab_type": "code",
        "colab": {
          "base_uri": "https://localhost:8080/",
          "height": 51
        },
        "outputId": "49352653-b67e-4616-9924-9b806579d340"
      },
      "cell_type": "code",
      "source": [
        "os.chdir('/tmp/mecab-ko-dic-2.0.1-20150920')\n",
        "!ldconfig\n",
        "!ldconfig -p | grep /usr/local/lib\n"
      ],
      "execution_count": 113,
      "outputs": [
        {
          "output_type": "stream",
          "text": [
            "\tlibmecab.so.2 (libc6,x86-64) => /usr/local/lib/libmecab.so.2\r\n",
            "\tlibmecab.so (libc6,x86-64) => /usr/local/lib/libmecab.so\r\n"
          ],
          "name": "stdout"
        }
      ]
    },
    {
      "metadata": {
        "id": "csXIshqZN_Mi",
        "colab_type": "text"
      },
      "cell_type": "markdown",
      "source": [
        "## install mecab-python\n",
        "python3 기준입니다."
      ]
    },
    {
      "metadata": {
        "id": "ITq9SMVv3Dli",
        "colab_type": "code",
        "colab": {}
      },
      "cell_type": "code",
      "source": [
        "# install mecab-python\n",
        "import os\n",
        "os.chdir('/content')\n",
        "\n",
        "!git clone https://bitbucket.org/eunjeon/mecab-python-0.996.git\n",
        "os.chdir('/content/mecab-python-0.996')\n",
        "\n",
        "!python3 setup.py build\n",
        "!python3 setup.py install\n"
      ],
      "execution_count": 0,
      "outputs": []
    }
  ]
}